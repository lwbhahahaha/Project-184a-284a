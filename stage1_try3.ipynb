{
 "cells": [
  {
   "cell_type": "code",
   "execution_count": 1,
   "metadata": {},
   "outputs": [
    {
     "name": "stderr",
     "output_type": "stream",
     "text": [
      "\u001b[32m\u001b[1m  Activating\u001b[22m\u001b[39m project at `g:\\桌面\\2022 Fall\\cs284A\\Project`\n"
     ]
    }
   ],
   "source": [
    "using Pkg\n",
    "Pkg.activate(\".\")\n",
    "Pkg.instantiate()\n",
    "# Pkg.add(\"CUDA\")\n",
    "# Pkg.add(\"Glob\")\n",
    "# Pkg.add(\"Images\")\n",
    "# Pkg.add(\"FastAI\")\n",
    "# Pkg.add(\"FastVision\")\n",
    "# Pkg.add(\"Flux\")\n",
    "# Pkg.add(\"Metalhead\")\n",
    "# Pkg.add(\"Images\")\n",
    "# Pkg.add(\"DataAugmentation\")\n",
    "# Pkg.add(\"CairoMakie\")\n",
    "# Pkg.add(\"StaticArrays\")\n",
    "# Pkg.add(\"MLDataPattern\")\n",
    "# Pkg.add(\"FastMakie\")"
   ]
  },
  {
   "cell_type": "code",
   "execution_count": 2,
   "metadata": {},
   "outputs": [],
   "source": [
    "using Glob\n",
    "using CUDA\n",
    "using FastAI\n",
    "using FastVision\n",
    "using MLDataPattern\n",
    "using DataAugmentation, Images\n",
    "using Flux\n",
    "using Metalhead\n",
    "using CairoMakie\n",
    "using StaticArrays\n",
    "using DICOM\n",
    "using Images\n",
    "using Printf\n",
    "using NIfTI\n",
    "using Base.Iterators\n",
    "using Plots\n",
    "CairoMakie.activate!(type=\"png\")"
   ]
  },
  {
   "cell_type": "code",
   "execution_count": 3,
   "metadata": {},
   "outputs": [
    {
     "data": {
      "text/plain": [
       "\"G:\\\\桌面\\\\2022 Fall\\\\cs284A\\\\Project\\\\Compressed_data\\\\train_images\""
      ]
     },
     "execution_count": 3,
     "metadata": {},
     "output_type": "execute_result"
    }
   ],
   "source": [
    "mask_dir = raw\"D:\\RSNA-2022-dataset\\segmentations\"\n",
    "train_image_dir = raw\"G:\\桌面\\2022 Fall\\cs284A\\Project\\Compressed_data\\train_images\""
   ]
  },
  {
   "cell_type": "code",
   "execution_count": 4,
   "metadata": {},
   "outputs": [],
   "source": [
    "mask_names = []\n",
    "for f in readdir(mask_dir, join=false)\n",
    "    push!(mask_names, splitext(f)[1])\n",
    "end"
   ]
  },
  {
   "cell_type": "code",
   "execution_count": 5,
   "metadata": {},
   "outputs": [
    {
     "name": "stdout",
     "output_type": "stream",
     "text": [
      "Found 87 of 87\n"
     ]
    }
   ],
   "source": [
    "matched_names = []\n",
    "ct = 0\n",
    "for img in readdir(train_image_dir, join=false)\n",
    "    f = splitext(splitext(img)[1])[1]\n",
    "    if f in mask_names\n",
    "        push!(matched_names, f)\n",
    "        ct += 1\n",
    "    end\n",
    "end\n",
    "println(\"Found $ct of $(size(mask_names)[1])\")"
   ]
  },
  {
   "cell_type": "code",
   "execution_count": 6,
   "metadata": {},
   "outputs": [],
   "source": [
    "for mask in mask_names\n",
    "    if !(mask in matched_names)\n",
    "        println(mask)\n",
    "    end\n",
    "end"
   ]
  },
  {
   "cell_type": "code",
   "execution_count": 7,
   "metadata": {},
   "outputs": [
    {
     "data": {
      "text/plain": [
       "(128, 128, 128)"
      ]
     },
     "execution_count": 7,
     "metadata": {},
     "output_type": "execute_result"
    }
   ],
   "source": [
    "image_size = (128, 128, 128)"
   ]
  },
  {
   "cell_type": "code",
   "execution_count": 8,
   "metadata": {},
   "outputs": [],
   "source": [
    "container_images = Array{Float32, 4}(undef, image_size..., ct)\n",
    "container_masks = Array{Int64, 4}(undef, image_size..., ct);"
   ]
  },
  {
   "cell_type": "code",
   "execution_count": 9,
   "metadata": {},
   "outputs": [],
   "source": [
    "Threads.@threads for i = 1 : 87\n",
    "    curr_path = train_image_dir * \"\\\\\" * matched_names[i] * \".img.txt\"\n",
    "    temp = zeros(128, 128, 128)\n",
    "    read!(curr_path, temp)\n",
    "    container_images[:,:,:, i] = deepcopy(temp)\n",
    "end"
   ]
  },
  {
   "cell_type": "code",
   "execution_count": 10,
   "metadata": {},
   "outputs": [],
   "source": [
    "Threads.@threads for i = 1 : 87\n",
    "    curr_path = \"G:\\\\桌面\\\\2022 Fall\\\\cs284A\\\\Project\\\\Compressed_data\\\\segmentations\\\\\" * matched_names[i] * \".nii.txt\"\n",
    "    temp = zeros(128, 128, 128)\n",
    "    read!(curr_path, temp)\n",
    "    temp = reinterpret(Int64, temp)\n",
    "    container_masks[:,:,:, i] = deepcopy(temp)\n",
    "end"
   ]
  },
  {
   "cell_type": "code",
   "execution_count": 11,
   "metadata": {},
   "outputs": [
    {
     "data": {
      "text/plain": [
       "Array{Float32, 4}"
      ]
     },
     "execution_count": 11,
     "metadata": {},
     "output_type": "execute_result"
    }
   ],
   "source": [
    "typeof(container_images)"
   ]
  },
  {
   "cell_type": "code",
   "execution_count": 12,
   "metadata": {},
   "outputs": [
    {
     "data": {
      "text/plain": [
       "Array{Int64, 4}"
      ]
     },
     "execution_count": 12,
     "metadata": {},
     "output_type": "execute_result"
    }
   ],
   "source": [
    "typeof(container_masks)"
   ]
  },
  {
   "cell_type": "code",
   "execution_count": 13,
   "metadata": {},
   "outputs": [],
   "source": [
    "data = (container_images, container_masks);"
   ]
  },
  {
   "cell_type": "code",
   "execution_count": 14,
   "metadata": {},
   "outputs": [
    {
     "data": {
      "text/plain": [
       "(1.0f0, 0.0f0)"
      ]
     },
     "execution_count": 14,
     "metadata": {},
     "output_type": "execute_result"
    }
   ],
   "source": [
    "maximum(container_images), minimum(container_images)"
   ]
  },
  {
   "cell_type": "code",
   "execution_count": 15,
   "metadata": {},
   "outputs": [
    {
     "data": {
      "text/plain": [
       "(8, 1)"
      ]
     },
     "execution_count": 15,
     "metadata": {},
     "output_type": "execute_result"
    }
   ],
   "source": [
    "maximum(container_masks), minimum(container_masks)"
   ]
  },
  {
   "cell_type": "code",
   "execution_count": 16,
   "metadata": {},
   "outputs": [
    {
     "name": "stderr",
     "output_type": "stream",
     "text": [
      "\u001b[32mProgress: 100%|█████████████████████████████████████████| Time: 0:00:03\u001b[39m\n"
     ]
    },
    {
     "data": {
      "text/plain": [
       "(Float32[0.2795012], Float32[0.16293259])"
      ]
     },
     "execution_count": 16,
     "metadata": {},
     "output_type": "execute_result"
    }
   ],
   "source": [
    "data_mean, data_std = FastVision.imagedatasetstats(container_images, Gray{N0f8}) \n",
    "data_mean, data_std = StaticArraysCore.SVector{1, Float32}(data_mean[1]), StaticArraysCore.SVector{1, Float32}(data_std[1])"
   ]
  },
  {
   "cell_type": "code",
   "execution_count": 17,
   "metadata": {},
   "outputs": [
    {
     "data": {
      "text/plain": [
       "SupervisedTask(FastVision.Image{3} -> Mask{3, Int64})"
      ]
     },
     "execution_count": 17,
     "metadata": {},
     "output_type": "execute_result"
    }
   ],
   "source": [
    "taskk = SupervisedTask(\n",
    "    (FastVision.Image{3}(), Mask{3}(1:8)), # 7 classes and 1 background\n",
    "    (\n",
    "        FastVision.ProjectiveTransforms((image_size)),\n",
    "        ImagePreprocessing(means = data_mean, stds = data_std, C = Gray{N0f8}),\n",
    "        FastAI.OneHot()\n",
    "    )\n",
    ")"
   ]
  },
  {
   "cell_type": "code",
   "execution_count": 18,
   "metadata": {},
   "outputs": [],
   "source": [
    "train_files, val_files = MLDataPattern.splitobs(data, 0.8);"
   ]
  },
  {
   "cell_type": "code",
   "execution_count": 19,
   "metadata": {},
   "outputs": [],
   "source": [
    "traindl, validdl = taskdataloaders(train_files, val_files, taskk, 1);"
   ]
  },
  {
   "cell_type": "code",
   "execution_count": 20,
   "metadata": {},
   "outputs": [
    {
     "data": {
      "text/plain": [
       "#15 (generic function with 1 method)"
      ]
     },
     "execution_count": 20,
     "metadata": {},
     "output_type": "execute_result"
    }
   ],
   "source": [
    "conv = (stride, in, out) -> Conv((3, 3, 3), in=>out, stride=stride, pad=(1, 1, 1))\n",
    "tran = (stride, in, out) -> ConvTranspose((4, 4, 4), in=>out, stride=stride, pad=1)\n",
    "\n",
    "conv1 = (in, out) -> Chain(conv(1, in, out), BatchNorm(out), x -> leakyrelu.(x))\n",
    "conv2 = (in, out) -> Chain(conv(2, in, out), BatchNorm(out), x -> leakyrelu.(x))\n",
    "tran2 = (in, out) -> Chain(tran(2, in, out), BatchNorm(out), x -> leakyrelu.(x))"
   ]
  },
  {
   "cell_type": "code",
   "execution_count": 21,
   "metadata": {},
   "outputs": [
    {
     "data": {
      "text/plain": [
       "unet3D (generic function with 1 method)"
      ]
     },
     "execution_count": 21,
     "metadata": {},
     "output_type": "execute_result"
    }
   ],
   "source": [
    "function unet3D(in_chs, lbl_chs)\n",
    "    # Contracting layers\n",
    "    l1 = Chain(conv1(in_chs, 4))\n",
    "    l2 = Chain(l1, conv1(4, 4), conv2(4, 8))\n",
    "    l3 = Chain(l2, conv1(8, 8), conv2(8, 16))\n",
    "    l4 = Chain(l3, conv1(16, 16), conv2(16, 32))\n",
    "    l5 = Chain(l4, conv1(32, 32), conv2(32, 64))\n",
    "\n",
    "    # Expanding layers\n",
    "    l6 = Chain(l5, tran2(64, 32), conv1(32, 32))\n",
    "    l7 = Chain(Parallel(+, l6, l4), tran2(32, 16), conv1(16, 16))       # Residual connection between l6 & l4\n",
    "    l8 = Chain(Parallel(+, l7, l3), tran2(16, 8), conv1(8, 8))       # Residual connection between l7 & l3\n",
    "    l9 = Chain(Parallel(+, l8, l2), tran2(8, 4), conv1(4, 4))          # Residual connection between l8 & l2\n",
    "    l10 = Chain(l9, conv1(4, lbl_chs))\n",
    "end"
   ]
  },
  {
   "cell_type": "code",
   "execution_count": 22,
   "metadata": {},
   "outputs": [],
   "source": [
    "model_1 = unet3D(1, 8);\n",
    "# taskk, model= loadtaskmodel(\"try2_stage1_5.jld2\"); # continue train from prev saved model\n",
    "model_1 = model_1 |> gpu;"
   ]
  },
  {
   "cell_type": "code",
   "execution_count": 23,
   "metadata": {},
   "outputs": [
    {
     "data": {
      "text/plain": [
       "_segmentationloss (generic function with 1 method)"
      ]
     },
     "execution_count": 23,
     "metadata": {},
     "output_type": "execute_result"
    }
   ],
   "source": [
    "lossfn = tasklossfn(taskk)"
   ]
  },
  {
   "cell_type": "code",
   "execution_count": 24,
   "metadata": {},
   "outputs": [
    {
     "data": {
      "text/plain": [
       "Adam(0.001, (0.9, 0.999), 1.0e-8, IdDict{Any, Any}())"
      ]
     },
     "execution_count": 24,
     "metadata": {},
     "output_type": "execute_result"
    }
   ],
   "source": [
    "optimizer = Flux.ADAM() "
   ]
  },
  {
   "cell_type": "code",
   "execution_count": 25,
   "metadata": {},
   "outputs": [
    {
     "data": {
      "text/plain": [
       "Learner()"
      ]
     },
     "execution_count": 25,
     "metadata": {},
     "output_type": "execute_result"
    }
   ],
   "source": [
    "learner = Learner(model_1, lossfn; data=(traindl, validdl), optimizer, callbacks=[ToGPU()])\n",
    "# learner = Learner(model_1, lossfn; data=(traindl, validdl), optimizer)"
   ]
  },
  {
   "cell_type": "code",
   "execution_count": 26,
   "metadata": {},
   "outputs": [
    {
     "ename": "",
     "evalue": "",
     "output_type": "error",
     "traceback": [
      "\u001b[1;31mCanceled future for execute_request message before replies were done"
     ]
    },
    {
     "ename": "",
     "evalue": "",
     "output_type": "error",
     "traceback": [
      "\u001b[1;31mThe Kernel crashed while executing code in the the current cell or a previous cell. Please review the code in the cell(s) to identify a possible cause of the failure. Click <a href='https://aka.ms/vscodeJupyterKernelCrash'>here</a> for more info. View Jupyter <a href='command:jupyter.viewOutput'>log</a> for further details."
     ]
    }
   ],
   "source": [
    "fitonecycle!(learner, 1, 0.033)"
   ]
  },
  {
   "cell_type": "code",
   "execution_count": null,
   "metadata": {},
   "outputs": [],
   "source": [
    "fitonecycle!(learner, 9, 0.033)"
   ]
  },
  {
   "cell_type": "code",
   "execution_count": null,
   "metadata": {},
   "outputs": [],
   "source": [
    "savetaskmodel(\"try3_stage1_10.jld2\", taskk, learner.model, force = true)"
   ]
  },
  {
   "cell_type": "code",
   "execution_count": null,
   "metadata": {},
   "outputs": [],
   "source": [
    "for i = 2:25\n",
    "    fitonecycle!(learner, 10, 0.033)\n",
    "    savetaskmodel(\"try3_stage1_\"*string(i*10)*\".jld2\", taskk, learner.model, force = true)\n",
    "    flush(stdout)\n",
    "end\n",
    "    "
   ]
  }
 ],
 "metadata": {
  "kernelspec": {
   "display_name": "Julia (auto threads) 1.7.2",
   "language": "julia",
   "name": "julia-(auto-threads)-1.7"
  },
  "language_info": {
   "file_extension": ".jl",
   "mimetype": "application/julia",
   "name": "julia",
   "version": "1.7.2"
  },
  "orig_nbformat": 4,
  "vscode": {
   "interpreter": {
    "hash": "c56527485b7c9dd36c8c8808345694ae9d0a642c0f00dfb6356f9a65494ceb50"
   }
  }
 },
 "nbformat": 4,
 "nbformat_minor": 2
}
