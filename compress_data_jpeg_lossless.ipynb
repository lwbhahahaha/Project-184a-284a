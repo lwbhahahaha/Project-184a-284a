{
 "cells": [
  {
   "attachments": {},
   "cell_type": "markdown",
   "metadata": {},
   "source": [
    "# This notebook decode Jpeg-lossless files"
   ]
  },
  {
   "cell_type": "code",
   "execution_count": 56,
   "metadata": {},
   "outputs": [],
   "source": [
    "from pydicom import dcmread\n",
    "import _thread\n",
    "import os"
   ]
  },
  {
   "cell_type": "code",
   "execution_count": 60,
   "metadata": {},
   "outputs": [],
   "source": [
    "num_threads = 16"
   ]
  },
  {
   "cell_type": "code",
   "execution_count": 82,
   "metadata": {},
   "outputs": [],
   "source": [
    "jobs_list = []\n",
    "for i in range(num_threads):\n",
    "    jobs_list.append([])\n",
    "for i, line in enumerate(open(r\"G:\\桌面\\2022 Fall\\cs284A\\Project\\jpeg_lossless_list.txt\")):\n",
    "    curr_dir = os.path.join(r\"D:\\RSNA-2022-dataset\\train_images\", line[0:-1])\n",
    "    jobs_list[i%num_threads].append(curr_dir)"
   ]
  },
  {
   "cell_type": "code",
   "execution_count": 90,
   "metadata": {},
   "outputs": [],
   "source": [
    "def decode_and_save(t_id, curr_dirs):\n",
    "    for curr_dir in curr_dirs:\n",
    "        for file_name in os.listdir(curr_dir):\n",
    "            curr_path = os.path.join(curr_dir, file_name)\n",
    "            ds = dcmread(curr_path)\n",
    "            ds.decompress(\"pylibjpeg\")\n",
    "            jpg_arr = ds.pixel_array\n",
    "            ds.PixelData = jpg_arr.tobytes()\n",
    "            ds.save_as(curr_path)\n",
    "    print(\"Thread %d --> %s\\n\" % (t_id, curr_dir))"
   ]
  },
  {
   "cell_type": "code",
   "execution_count": 91,
   "metadata": {},
   "outputs": [
    {
     "name": "stderr",
     "output_type": "stream",
     "text": [
      "Exception ignored in thread started by: <function decode_and_save at 0x0000015DF2428A60>\n",
      "Traceback (most recent call last):\n",
      "  File \"C:\\Users\\ADMINI~1.WIN\\AppData\\Local\\Temp/ipykernel_7360/1141896349.py\", line 6, in decode_and_save\n",
      "  File \"c:\\Python39\\lib\\site-packages\\pydicom\\dataset.py\", line 1777, in decompress\n",
      "    self.convert_pixel_data(handler_name)\n",
      "  File \"c:\\Python39\\lib\\site-packages\\pydicom\\dataset.py\", line 1442, in convert_pixel_data\n",
      "    self._convert_pixel_data_using_handler(handler_name)\n",
      "  File \"c:\\Python39\\lib\\site-packages\\pydicom\\dataset.py\", line 1467, in _convert_pixel_data_using_handler\n",
      "    raise NotImplementedError(\n",
      "NotImplementedError: Unable to decode pixel data with a transfer syntax UID of '1.2.840.10008.1.2.1' (Explicit VR Little Endian) using the pixel data handler 'pylibjpeg'. Please see the pydicom documentation for information on supported transfer syntaxes.\n",
      "Exception ignored in thread started by: <function decode_and_save at 0x0000015DF2428A60>\n",
      "Traceback (most recent call last):\n",
      "  File \"C:\\Users\\ADMINI~1.WIN\\AppData\\Local\\Temp/ipykernel_7360/1141896349.py\", line 6, in decode_and_save\n",
      "  File \"c:\\Python39\\lib\\site-packages\\pydicom\\dataset.py\", line 1777, in decompress\n",
      "    self.convert_pixel_data(handler_name)\n",
      "  File \"c:\\Python39\\lib\\site-packages\\pydicom\\dataset.py\", line 1442, in convert_pixel_data\n",
      "    self._convert_pixel_data_using_handler(handler_name)\n",
      "  File \"c:\\Python39\\lib\\site-packages\\pydicom\\dataset.py\", line 1480, in _convert_pixel_data_using_handler\n",
      "    self._do_pixel_data_conversion(handler)\n",
      "  File \"c:\\Python39\\lib\\site-packages\\pydicom\\dataset.py\", line 1563, in _do_pixel_data_conversion\n",
      "    arr = handler.get_pixeldata(self)\n",
      "  File \"c:\\Python39\\lib\\site-packages\\pydicom\\pixel_data_handlers\\pylibjpeg_handler.py\", line 327, in get_pixeldata\n",
      "    for frame, offset in zip(generate_frames(ds, False), generate_offsets):\n",
      "  File \"c:\\Python39\\lib\\site-packages\\pydicom\\pixel_data_handlers\\pylibjpeg_handler.py\", line 235, in generate_frames\n",
      "    raise RuntimeError(\n",
      "RuntimeError: Unable to convert the Pixel Data as the 'pylibjpeg-openjpeg' plugin is not installed\n"
     ]
    },
    {
     "name": "stdout",
     "output_type": "stream",
     "text": [
      "Thread 13 --> D:\\RSNA-2022-dataset\\train_images\\1.2.826.0.1.3680043.7704\n",
      "\n",
      "Thread 6 --> D:\\RSNA-2022-dataset\\train_images\\1.2.826.0.1.3680043.9994\n",
      "\n",
      "Thread 15 --> D:\\RSNA-2022-dataset\\train_images\\1.2.826.0.1.3680043.8562\n",
      "\n",
      "Thread 7 --> D:\\RSNA-2022-dataset\\train_images\\1.2.826.0.1.3680043.9443\n",
      "\n",
      "Thread 3 --> D:\\RSNA-2022-dataset\\train_images\\1.2.826.0.1.3680043.9221\n",
      "\n",
      "Thread 8 --> D:\\RSNA-2022-dataset\\train_images\\1.2.826.0.1.3680043.6537\n",
      "\n",
      "Thread 10 --> D:\\RSNA-2022-dataset\\train_images\\1.2.826.0.1.3680043.6714\n",
      "\n"
     ]
    },
    {
     "name": "stderr",
     "output_type": "stream",
     "text": [
      "Exception ignored in thread started by: <function decode_and_save at 0x0000015DF2428A60>\n",
      "Traceback (most recent call last):\n",
      "  File \"C:\\Users\\ADMINI~1.WIN\\AppData\\Local\\Temp/ipykernel_7360/1141896349.py\", line 6, in decode_and_save\n",
      "  File \"c:\\Python39\\lib\\site-packages\\pydicom\\dataset.py\", line 1777, in decompress\n",
      "    self.convert_pixel_data(handler_name)\n",
      "  File \"c:\\Python39\\lib\\site-packages\\pydicom\\dataset.py\", line 1442, in convert_pixel_data\n",
      "    self._convert_pixel_data_using_handler(handler_name)\n",
      "  File \"c:\\Python39\\lib\\site-packages\\pydicom\\dataset.py\", line 1480, in _convert_pixel_data_using_handler\n",
      "    self._do_pixel_data_conversion(handler)\n",
      "  File \"c:\\Python39\\lib\\site-packages\\pydicom\\dataset.py\", line 1563, in _do_pixel_data_conversion\n",
      "    arr = handler.get_pixeldata(self)\n",
      "  File \"c:\\Python39\\lib\\site-packages\\pydicom\\pixel_data_handlers\\pylibjpeg_handler.py\", line 327, in get_pixeldata\n",
      "    for frame, offset in zip(generate_frames(ds, False), generate_offsets):\n",
      "  File \"c:\\Python39\\lib\\site-packages\\pydicom\\pixel_data_handlers\\pylibjpeg_handler.py\", line 235, in generate_frames\n",
      "    raise RuntimeError(\n",
      "RuntimeError: Unable to convert the Pixel Data as the 'pylibjpeg-openjpeg' plugin is not installed\n"
     ]
    },
    {
     "name": "stdout",
     "output_type": "stream",
     "text": [
      "Thread 1 --> D:\\RSNA-2022-dataset\\train_images\\1.2.826.0.1.3680043.8820\n",
      "\n",
      "Thread 4 --> D:\\RSNA-2022-dataset\\train_images\\1.2.826.0.1.3680043.933\n",
      "\n",
      "Thread 11 --> D:\\RSNA-2022-dataset\\train_images\\1.2.826.0.1.3680043.9898\n",
      "\n"
     ]
    },
    {
     "name": "stderr",
     "output_type": "stream",
     "text": [
      "Exception ignored in thread started by: <function decode_and_save at 0x0000015DF2428A60>\n",
      "Traceback (most recent call last):\n",
      "  File \"C:\\Users\\ADMINI~1.WIN\\AppData\\Local\\Temp/ipykernel_7360/1141896349.py\", line 6, in decode_and_save\n",
      "  File \"c:\\Python39\\lib\\site-packages\\pydicom\\dataset.py\", line 1777, in decompress\n",
      "    self.convert_pixel_data(handler_name)\n",
      "  File \"c:\\Python39\\lib\\site-packages\\pydicom\\dataset.py\", line 1442, in convert_pixel_data\n",
      "    self._convert_pixel_data_using_handler(handler_name)\n",
      "  File \"c:\\Python39\\lib\\site-packages\\pydicom\\dataset.py\", line 1467, in _convert_pixel_data_using_handler\n",
      "    raise NotImplementedError(\n",
      "NotImplementedError: Unable to decode pixel data with a transfer syntax UID of '1.2.840.10008.1.2.1' (Explicit VR Little Endian) using the pixel data handler 'pylibjpeg'. Please see the pydicom documentation for information on supported transfer syntaxes.\n"
     ]
    },
    {
     "name": "stdout",
     "output_type": "stream",
     "text": [
      "Thread 12 --> D:\\RSNA-2022-dataset\\train_images\\1.2.826.0.1.3680043.6892\n",
      "\n",
      "Thread 0 --> D:\\RSNA-2022-dataset\\train_images\\1.2.826.0.1.3680043.8662\n",
      "\n"
     ]
    }
   ],
   "source": [
    "for i in range(num_threads):\n",
    "    _thread.start_new_thread(decode_and_save, (i, jobs_list[i]))"
   ]
  }
 ],
 "metadata": {
  "kernelspec": {
   "display_name": "Python 3.9.5 64-bit",
   "language": "python",
   "name": "python3"
  },
  "language_info": {
   "codemirror_mode": {
    "name": "ipython",
    "version": 3
   },
   "file_extension": ".py",
   "mimetype": "text/x-python",
   "name": "python",
   "nbconvert_exporter": "python",
   "pygments_lexer": "ipython3",
   "version": "3.9.5 (tags/v3.9.5:0a7dcbd, May  3 2021, 17:27:52) [MSC v.1928 64 bit (AMD64)]"
  },
  "orig_nbformat": 4,
  "vscode": {
   "interpreter": {
    "hash": "81794d4967e6c3204c66dcd87b604927b115b27c00565d3d43f05ba2f3a2cb0d"
   }
  }
 },
 "nbformat": 4,
 "nbformat_minor": 2
}
